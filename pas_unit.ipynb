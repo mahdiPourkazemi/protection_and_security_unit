{
 "cells": [
  {
   "cell_type": "code",
   "execution_count": null,
   "metadata": {},
   "outputs": [],
   "source": [
    "class Security:\n",
    "\n",
    "    def secure(self, info):\n",
    "        pass\n",
    "\n",
    "    def is_social_account_info(self, param):\n",
    "        pass\n",
    "\n",
    "    def encrypt(self, s):\n",
    "        pass"
   ]
  }
 ],
 "metadata": {
  "kernelspec": {
   "display_name": "Python 3 (ipykernel)",
   "language": "python",
   "name": "python3"
  }
 },
 "nbformat": 4,
 "nbformat_minor": 2
}
